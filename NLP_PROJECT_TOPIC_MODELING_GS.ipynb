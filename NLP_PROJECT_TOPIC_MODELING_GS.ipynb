{
 "cells": [
  {
   "cell_type": "code",
   "execution_count": 1,
   "metadata": {},
   "outputs": [],
   "source": [
    "import pandas as pd"
   ]
  },
  {
   "cell_type": "code",
   "execution_count": 2,
   "metadata": {},
   "outputs": [],
   "source": [
    "train_data = pd.read_csv(\"E:/NLP/Project/data/train.csv\")"
   ]
  },
  {
   "cell_type": "code",
   "execution_count": 3,
   "metadata": {},
   "outputs": [],
   "source": [
    "test_data = pd.read_csv(\"E:/NLP/Project/data/test.csv\")"
   ]
  },
  {
   "cell_type": "code",
   "execution_count": 4,
   "metadata": {},
   "outputs": [
    {
     "data": {
      "text/html": [
       "<div>\n",
       "<style scoped>\n",
       "    .dataframe tbody tr th:only-of-type {\n",
       "        vertical-align: middle;\n",
       "    }\n",
       "\n",
       "    .dataframe tbody tr th {\n",
       "        vertical-align: top;\n",
       "    }\n",
       "\n",
       "    .dataframe thead th {\n",
       "        text-align: right;\n",
       "    }\n",
       "</style>\n",
       "<table border=\"1\" class=\"dataframe\">\n",
       "  <thead>\n",
       "    <tr style=\"text-align: right;\">\n",
       "      <th></th>\n",
       "      <th>id</th>\n",
       "      <th>comment_text</th>\n",
       "    </tr>\n",
       "  </thead>\n",
       "  <tbody>\n",
       "    <tr>\n",
       "      <th>0</th>\n",
       "      <td>7097320</td>\n",
       "      <td>[ Integrity means that you pay your debts.]\\n\\...</td>\n",
       "    </tr>\n",
       "    <tr>\n",
       "      <th>1</th>\n",
       "      <td>7097321</td>\n",
       "      <td>This is malfeasance by the Administrator and t...</td>\n",
       "    </tr>\n",
       "    <tr>\n",
       "      <th>2</th>\n",
       "      <td>7097322</td>\n",
       "      <td>@Rmiller101 - Spoken like a true elitist. But ...</td>\n",
       "    </tr>\n",
       "    <tr>\n",
       "      <th>3</th>\n",
       "      <td>7097323</td>\n",
       "      <td>Paul: Thank you for your kind words.  I do, in...</td>\n",
       "    </tr>\n",
       "    <tr>\n",
       "      <th>4</th>\n",
       "      <td>7097324</td>\n",
       "      <td>Sorry you missed high school. Eisenhower sent ...</td>\n",
       "    </tr>\n",
       "  </tbody>\n",
       "</table>\n",
       "</div>"
      ],
      "text/plain": [
       "        id                                       comment_text\n",
       "0  7097320  [ Integrity means that you pay your debts.]\\n\\...\n",
       "1  7097321  This is malfeasance by the Administrator and t...\n",
       "2  7097322  @Rmiller101 - Spoken like a true elitist. But ...\n",
       "3  7097323  Paul: Thank you for your kind words.  I do, in...\n",
       "4  7097324  Sorry you missed high school. Eisenhower sent ..."
      ]
     },
     "execution_count": 4,
     "metadata": {},
     "output_type": "execute_result"
    }
   ],
   "source": [
    "test_data.head(5)"
   ]
  },
  {
   "cell_type": "code",
   "execution_count": null,
   "metadata": {},
   "outputs": [],
   "source": [
    "'''To protect users from being exposed to offensive language on online forums or social media sites,\n",
    "companies have started flagging comments and blocking users who are found guilty of using unpleasant language.\n",
    "Several Machine Learning models have been developed and deployed to filter out the unruly language and protect \n",
    "internet users from becoming victims of online harassment and cyberbullying.'''"
   ]
  },
  {
   "cell_type": "code",
   "execution_count": null,
   "metadata": {},
   "outputs": [],
   "source": [
    "#“To build a multi-headed model that’s capable of detecting different types of toxicity like threats, obscenity, insults, and identity-based hate.”"
   ]
  },
  {
   "cell_type": "code",
   "execution_count": 10,
   "metadata": {},
   "outputs": [
    {
     "data": {
      "text/plain": [
       "Series([], dtype: float64)"
      ]
     },
     "execution_count": 10,
     "metadata": {},
     "output_type": "execute_result"
    }
   ],
   "source": [
    "#Step 1: Checking for missing values in train data.\n",
    "train_data =train_data[['id','comment_text']]\n",
    "null_columns=train_data.columns[train_data.isnull().any()]\n",
    "train_data[null_columns].isnull().sum()"
   ]
  },
  {
   "cell_type": "code",
   "execution_count": 11,
   "metadata": {},
   "outputs": [
    {
     "data": {
      "text/plain": [
       "Series([], dtype: float64)"
      ]
     },
     "execution_count": 11,
     "metadata": {},
     "output_type": "execute_result"
    }
   ],
   "source": [
    "#checking missing values in test data\n",
    "null_columns=test_data.columns[test_data.isnull().any()]\n",
    "test_data[null_columns].isnull().sum()"
   ]
  },
  {
   "cell_type": "code",
   "execution_count": 12,
   "metadata": {},
   "outputs": [
    {
     "name": "stdout",
     "output_type": "stream",
     "text": [
      "<class 'pandas.core.frame.DataFrame'>\n",
      "RangeIndex: 1804874 entries, 0 to 1804873\n",
      "Data columns (total 2 columns):\n",
      " #   Column        Dtype \n",
      "---  ------        ----- \n",
      " 0   id            int64 \n",
      " 1   comment_text  object\n",
      "dtypes: int64(1), object(1)\n",
      "memory usage: 27.5+ MB\n"
     ]
    }
   ],
   "source": [
    "train_data.info()"
   ]
  },
  {
   "cell_type": "code",
   "execution_count": 13,
   "metadata": {},
   "outputs": [
    {
     "name": "stdout",
     "output_type": "stream",
     "text": [
      "<class 'pandas.core.frame.DataFrame'>\n",
      "RangeIndex: 97320 entries, 0 to 97319\n",
      "Data columns (total 2 columns):\n",
      " #   Column        Non-Null Count  Dtype \n",
      "---  ------        --------------  ----- \n",
      " 0   id            97320 non-null  int64 \n",
      " 1   comment_text  97320 non-null  object\n",
      "dtypes: int64(1), object(1)\n",
      "memory usage: 1.5+ MB\n"
     ]
    }
   ],
   "source": [
    "test_data.info()"
   ]
  },
  {
   "cell_type": "code",
   "execution_count": 14,
   "metadata": {},
   "outputs": [
    {
     "data": {
      "text/html": [
       "<div>\n",
       "<style scoped>\n",
       "    .dataframe tbody tr th:only-of-type {\n",
       "        vertical-align: middle;\n",
       "    }\n",
       "\n",
       "    .dataframe tbody tr th {\n",
       "        vertical-align: top;\n",
       "    }\n",
       "\n",
       "    .dataframe thead th {\n",
       "        text-align: right;\n",
       "    }\n",
       "</style>\n",
       "<table border=\"1\" class=\"dataframe\">\n",
       "  <thead>\n",
       "    <tr style=\"text-align: right;\">\n",
       "      <th></th>\n",
       "      <th>id</th>\n",
       "      <th>comment_text</th>\n",
       "    </tr>\n",
       "  </thead>\n",
       "  <tbody>\n",
       "    <tr>\n",
       "      <th>0</th>\n",
       "      <td>59848</td>\n",
       "      <td>This is so cool. It's like, 'would you want yo...</td>\n",
       "    </tr>\n",
       "    <tr>\n",
       "      <th>1</th>\n",
       "      <td>59849</td>\n",
       "      <td>Thank you!! This would make my life a lot less...</td>\n",
       "    </tr>\n",
       "    <tr>\n",
       "      <th>2</th>\n",
       "      <td>59852</td>\n",
       "      <td>This is such an urgent design problem; kudos t...</td>\n",
       "    </tr>\n",
       "    <tr>\n",
       "      <th>3</th>\n",
       "      <td>59855</td>\n",
       "      <td>Is this something I'll be able to install on m...</td>\n",
       "    </tr>\n",
       "    <tr>\n",
       "      <th>4</th>\n",
       "      <td>59856</td>\n",
       "      <td>haha you guys are a bunch of losers.</td>\n",
       "    </tr>\n",
       "    <tr>\n",
       "      <th>...</th>\n",
       "      <td>...</td>\n",
       "      <td>...</td>\n",
       "    </tr>\n",
       "    <tr>\n",
       "      <th>1804869</th>\n",
       "      <td>6333967</td>\n",
       "      <td>Maybe the tax on \"things\" would be collected w...</td>\n",
       "    </tr>\n",
       "    <tr>\n",
       "      <th>1804870</th>\n",
       "      <td>6333969</td>\n",
       "      <td>What do you call people who STILL think the di...</td>\n",
       "    </tr>\n",
       "    <tr>\n",
       "      <th>1804871</th>\n",
       "      <td>6333982</td>\n",
       "      <td>thank you ,,,right or wrong,,, i am following ...</td>\n",
       "    </tr>\n",
       "    <tr>\n",
       "      <th>1804872</th>\n",
       "      <td>6334009</td>\n",
       "      <td>Anyone who is quoted as having the following e...</td>\n",
       "    </tr>\n",
       "    <tr>\n",
       "      <th>1804873</th>\n",
       "      <td>6334010</td>\n",
       "      <td>Students defined as EBD are legally just as di...</td>\n",
       "    </tr>\n",
       "  </tbody>\n",
       "</table>\n",
       "<p>1804874 rows × 2 columns</p>\n",
       "</div>"
      ],
      "text/plain": [
       "              id                                       comment_text\n",
       "0          59848  This is so cool. It's like, 'would you want yo...\n",
       "1          59849  Thank you!! This would make my life a lot less...\n",
       "2          59852  This is such an urgent design problem; kudos t...\n",
       "3          59855  Is this something I'll be able to install on m...\n",
       "4          59856               haha you guys are a bunch of losers.\n",
       "...          ...                                                ...\n",
       "1804869  6333967  Maybe the tax on \"things\" would be collected w...\n",
       "1804870  6333969  What do you call people who STILL think the di...\n",
       "1804871  6333982  thank you ,,,right or wrong,,, i am following ...\n",
       "1804872  6334009  Anyone who is quoted as having the following e...\n",
       "1804873  6334010  Students defined as EBD are legally just as di...\n",
       "\n",
       "[1804874 rows x 2 columns]"
      ]
     },
     "execution_count": 14,
     "metadata": {},
     "output_type": "execute_result"
    }
   ],
   "source": [
    "train_data.dropna()"
   ]
  },
  {
   "cell_type": "code",
   "execution_count": 15,
   "metadata": {},
   "outputs": [
    {
     "data": {
      "text/html": [
       "<div>\n",
       "<style scoped>\n",
       "    .dataframe tbody tr th:only-of-type {\n",
       "        vertical-align: middle;\n",
       "    }\n",
       "\n",
       "    .dataframe tbody tr th {\n",
       "        vertical-align: top;\n",
       "    }\n",
       "\n",
       "    .dataframe thead th {\n",
       "        text-align: right;\n",
       "    }\n",
       "</style>\n",
       "<table border=\"1\" class=\"dataframe\">\n",
       "  <thead>\n",
       "    <tr style=\"text-align: right;\">\n",
       "      <th></th>\n",
       "      <th>id</th>\n",
       "      <th>comment_text</th>\n",
       "    </tr>\n",
       "  </thead>\n",
       "  <tbody>\n",
       "    <tr>\n",
       "      <th>0</th>\n",
       "      <td>7097320</td>\n",
       "      <td>[ Integrity means that you pay your debts.]\\n\\...</td>\n",
       "    </tr>\n",
       "    <tr>\n",
       "      <th>1</th>\n",
       "      <td>7097321</td>\n",
       "      <td>This is malfeasance by the Administrator and t...</td>\n",
       "    </tr>\n",
       "    <tr>\n",
       "      <th>2</th>\n",
       "      <td>7097322</td>\n",
       "      <td>@Rmiller101 - Spoken like a true elitist. But ...</td>\n",
       "    </tr>\n",
       "    <tr>\n",
       "      <th>3</th>\n",
       "      <td>7097323</td>\n",
       "      <td>Paul: Thank you for your kind words.  I do, in...</td>\n",
       "    </tr>\n",
       "    <tr>\n",
       "      <th>4</th>\n",
       "      <td>7097324</td>\n",
       "      <td>Sorry you missed high school. Eisenhower sent ...</td>\n",
       "    </tr>\n",
       "    <tr>\n",
       "      <th>...</th>\n",
       "      <td>...</td>\n",
       "      <td>...</td>\n",
       "    </tr>\n",
       "    <tr>\n",
       "      <th>97315</th>\n",
       "      <td>7194635</td>\n",
       "      <td>He should lose his job for promoting mis-infor...</td>\n",
       "    </tr>\n",
       "    <tr>\n",
       "      <th>97316</th>\n",
       "      <td>7194636</td>\n",
       "      <td>\"Thinning project is meant to lower fire dange...</td>\n",
       "    </tr>\n",
       "    <tr>\n",
       "      <th>97317</th>\n",
       "      <td>7194637</td>\n",
       "      <td>I hope you millennials are happy that you put ...</td>\n",
       "    </tr>\n",
       "    <tr>\n",
       "      <th>97318</th>\n",
       "      <td>7194638</td>\n",
       "      <td>I'm thinking Kellyanne Conway (a.k.a. The Trum...</td>\n",
       "    </tr>\n",
       "    <tr>\n",
       "      <th>97319</th>\n",
       "      <td>7194639</td>\n",
       "      <td>I still can't figure why a pizza in AK cost mo...</td>\n",
       "    </tr>\n",
       "  </tbody>\n",
       "</table>\n",
       "<p>97320 rows × 2 columns</p>\n",
       "</div>"
      ],
      "text/plain": [
       "            id                                       comment_text\n",
       "0      7097320  [ Integrity means that you pay your debts.]\\n\\...\n",
       "1      7097321  This is malfeasance by the Administrator and t...\n",
       "2      7097322  @Rmiller101 - Spoken like a true elitist. But ...\n",
       "3      7097323  Paul: Thank you for your kind words.  I do, in...\n",
       "4      7097324  Sorry you missed high school. Eisenhower sent ...\n",
       "...        ...                                                ...\n",
       "97315  7194635  He should lose his job for promoting mis-infor...\n",
       "97316  7194636  \"Thinning project is meant to lower fire dange...\n",
       "97317  7194637  I hope you millennials are happy that you put ...\n",
       "97318  7194638  I'm thinking Kellyanne Conway (a.k.a. The Trum...\n",
       "97319  7194639  I still can't figure why a pizza in AK cost mo...\n",
       "\n",
       "[97320 rows x 2 columns]"
      ]
     },
     "execution_count": 15,
     "metadata": {},
     "output_type": "execute_result"
    }
   ],
   "source": [
    "test_data.dropna()"
   ]
  },
  {
   "cell_type": "code",
   "execution_count": 16,
   "metadata": {},
   "outputs": [],
   "source": [
    "#combined both the data sets \n",
    "combined_data = train_data.append(test_data)"
   ]
  },
  {
   "cell_type": "code",
   "execution_count": 17,
   "metadata": {},
   "outputs": [
    {
     "name": "stdout",
     "output_type": "stream",
     "text": [
      "<class 'pandas.core.frame.DataFrame'>\n",
      "Int64Index: 1902194 entries, 0 to 97319\n",
      "Data columns (total 2 columns):\n",
      " #   Column        Dtype \n",
      "---  ------        ----- \n",
      " 0   id            int64 \n",
      " 1   comment_text  object\n",
      "dtypes: int64(1), object(1)\n",
      "memory usage: 43.5+ MB\n"
     ]
    }
   ],
   "source": [
    "combined_data.info()"
   ]
  },
  {
   "cell_type": "code",
   "execution_count": 20,
   "metadata": {},
   "outputs": [
    {
     "data": {
      "text/plain": [
       "0    This is so cool. It's like, 'would you want yo...\n",
       "0    [ Integrity means that you pay your debts.]\\n\\...\n",
       "Name: comment_text, dtype: object"
      ]
     },
     "execution_count": 20,
     "metadata": {},
     "output_type": "execute_result"
    }
   ],
   "source": [
    "combined_data.comment_text[0]"
   ]
  },
  {
   "cell_type": "code",
   "execution_count": 22,
   "metadata": {},
   "outputs": [],
   "source": [
    "combined_data = combined_data[['comment_text']]"
   ]
  },
  {
   "cell_type": "code",
   "execution_count": 24,
   "metadata": {
    "scrolled": true
   },
   "outputs": [
    {
     "name": "stdout",
     "output_type": "stream",
     "text": [
      "<class 'pandas.core.frame.DataFrame'>\n",
      "Int64Index: 1902194 entries, 0 to 97319\n",
      "Data columns (total 1 columns):\n",
      " #   Column        Dtype \n",
      "---  ------        ----- \n",
      " 0   comment_text  object\n",
      "dtypes: object(1)\n",
      "memory usage: 109.0+ MB\n"
     ]
    }
   ],
   "source": [
    "combined_data.info()"
   ]
  },
  {
   "cell_type": "code",
   "execution_count": 67,
   "metadata": {},
   "outputs": [],
   "source": [
    "df=combined_data.sample(n = 50000, random_state = 2)"
   ]
  },
  {
   "cell_type": "code",
   "execution_count": 68,
   "metadata": {},
   "outputs": [
    {
     "name": "stdout",
     "output_type": "stream",
     "text": [
      "<class 'pandas.core.frame.DataFrame'>\n",
      "Int64Index: 50000 entries, 1775687 to 1268339\n",
      "Data columns (total 1 columns):\n",
      " #   Column        Non-Null Count  Dtype \n",
      "---  ------        --------------  ----- \n",
      " 0   comment_text  50000 non-null  object\n",
      "dtypes: object(1)\n",
      "memory usage: 781.2+ KB\n"
     ]
    }
   ],
   "source": [
    "df.info()"
   ]
  },
  {
   "cell_type": "code",
   "execution_count": 29,
   "metadata": {},
   "outputs": [
    {
     "name": "stderr",
     "output_type": "stream",
     "text": [
      "C:\\Users\\akash\\Anaconda3\\lib\\site-packages\\gensim\\similarities\\__init__.py:15: UserWarning: The gensim.similarities.levenshtein submodule is disabled, because the optional Levenshtein package <https://pypi.org/project/python-Levenshtein/> is unavailable. Install Levenhstein (e.g. `pip install python-Levenshtein`) to suppress this warning.\n",
      "  warnings.warn(msg)\n"
     ]
    }
   ],
   "source": [
    "import re\n",
    "import numpy as np\n",
    "import pandas as pd\n",
    "from pprint import pprint\n",
    "\n",
    "# Gensim\n",
    "import gensim\n",
    "import gensim.corpora as corpora\n",
    "from gensim.utils import simple_preprocess\n",
    "from gensim.models import CoherenceModel\n",
    "\n",
    "# spacy for lemmatization\n",
    "import p\n",
    "\n",
    "# Plotting tools\n",
    "import pyLDAvis\n",
    "import pyLDAvis.gensim  # don't skip this\n",
    "import matplotlib.pyplot as plt\n",
    "%matplotlib inline\n",
    "\n",
    "# Enable logging for gensim - optional\n",
    "import logging\n",
    "logging.basicConfig(format='%(asctime)s : %(levelname)s : %(message)s', level=logging.ERROR)\n",
    "\n",
    "import warnings\n",
    "warnings.filterwarnings(\"ignore\",category=DeprecationWarning)"
   ]
  },
  {
   "cell_type": "code",
   "execution_count": 32,
   "metadata": {},
   "outputs": [],
   "source": [
    "from sklearn.feature_extraction.text import CountVectorizer"
   ]
  },
  {
   "cell_type": "code",
   "execution_count": 80,
   "metadata": {},
   "outputs": [],
   "source": [
    "# NLTK Stop words\n",
    "from nltk.corpus import stopwords\n",
    "stop_words = stopwords.words('english')\n",
    "stop_words.extend(['https', 'did', 'and','www', 'just', 'com','do','to','s'])"
   ]
  },
  {
   "cell_type": "code",
   "execution_count": 71,
   "metadata": {},
   "outputs": [
    {
     "name": "stdout",
     "output_type": "stream",
     "text": [
      "['Perhaps ISIS should just sit back and watch angry white Gunmericans do their '\n",
      " 'bidding for them',\n",
      " 'Most people have smoked it and most people have moved on',\n",
      " '\"Both theology and science seek to reveal the truth\" They do Religion claims '\n",
      " 'to already know \"truth\" offering absolutely no new information and no '\n",
      " 'supporting evidence for claims it makes yet demanding unquestioned '\n",
      " 'compliance with its ideas Science otoh tries to disprove claims that are '\n",
      " \"made using evidence as it's basis for knowledge and changes it's mind when \"\n",
      " 'better information is found This is known as \"learning\" Try doing this with '\n",
      " \"religion and see how far you get If religion was the basis for truth we'd \"\n",
      " 'still be living in the Dark Ages']\n"
     ]
    }
   ],
   "source": [
    "# Convert to list\n",
    "data = df.comment_text.values.tolist()\n",
    "\n",
    "# Remove Emails\n",
    "data = [re.sub('\\S*@\\S*\\s?', '', sent) for sent in data]\n",
    "\n",
    "# Remove new line characters\n",
    "data = [re.sub('\\s+', ' ', sent) for sent in data]\n",
    "\n",
    "# Remove distracting single quotes\n",
    "data = [re.sub('[,\\.!?]', \"\", sent) for sent in data]\n",
    "\n",
    "pprint(data[:3])"
   ]
  },
  {
   "cell_type": "code",
   "execution_count": 76,
   "metadata": {},
   "outputs": [
    {
     "name": "stdout",
     "output_type": "stream",
     "text": [
      "[['perhaps', 'isis', 'should', 'just', 'sit', 'back', 'and', 'watch', 'angry', 'white', 'gunmericans', 'do', 'their', 'bidding', 'for', 'them']]\n"
     ]
    }
   ],
   "source": [
    "def sent_to_words(sentences):\n",
    "    for sentence in sentences:\n",
    "        yield(gensim.utils.simple_preprocess(str(sentence), deacc=True))  # deacc=True removes punctuations\n",
    "\n",
    "data_words = list(sent_to_words(data))\n",
    "\n",
    "print(data_words[:1])"
   ]
  },
  {
   "cell_type": "code",
   "execution_count": 77,
   "metadata": {},
   "outputs": [
    {
     "name": "stdout",
     "output_type": "stream",
     "text": [
      "['perhaps', 'isis', 'should', 'just', 'sit', 'back', 'and', 'watch', 'angry', 'white', 'gunmericans', 'do', 'their', 'bidding', 'for', 'them']\n"
     ]
    }
   ],
   "source": [
    "# Build the bigram and trigram models\n",
    "bigram = gensim.models.Phrases(data_words, min_count=5, threshold=100) # higher threshold fewer phrases.\n",
    "trigram = gensim.models.Phrases(bigram[data_words], threshold=100)  \n",
    "\n",
    "# Faster way to get a sentence clubbed as a trigram/bigram\n",
    "bigram_mod = gensim.models.phrases.Phraser(bigram)\n",
    "trigram_mod = gensim.models.phrases.Phraser(trigram)\n",
    "\n",
    "# See trigram example   \n",
    "print(trigram_mod[bigram_mod[data_words[0]]])"
   ]
  },
  {
   "cell_type": "code",
   "execution_count": 78,
   "metadata": {},
   "outputs": [],
   "source": [
    "# Define functions for stopwords, bigrams, trigrams and lemmatization\n",
    "def remove_stopwords(texts):\n",
    "    return [[word for word in simple_preprocess(str(doc)) if word not in stop_words] for doc in texts]\n",
    "\n",
    "def make_bigrams(texts):\n",
    "    return [bigram_mod[doc] for doc in texts]\n",
    "\n",
    "def make_trigrams(texts):\n",
    "    return [trigram_mod[bigram_mod[doc]] for doc in texts]\n",
    "\n",
    "def lemmatization(texts, allowed_postags=['NOUN', 'ADJ', 'VERB', 'ADV']):\n",
    "    \"\"\"https://spacy.io/api/annotation\"\"\"\n",
    "    texts_out = []\n",
    "    for sent in texts:\n",
    "        doc = nlp(\" \".join(sent)) \n",
    "        texts_out.append([token.lemma_ for token in doc if token.pos_ in allowed_postags])\n",
    "    return texts_out"
   ]
  },
  {
   "cell_type": "code",
   "execution_count": 119,
   "metadata": {},
   "outputs": [
    {
     "name": "stdout",
     "output_type": "stream",
     "text": [
      "[['perhaps', 'isis', 'sit', 'back', 'watch', 'angry', 'white', 'gunmerican', 'bid']]\n"
     ]
    }
   ],
   "source": [
    "# Remove Stop Words\n",
    "data_words_nostops = remove_stopwords(data_words)\n",
    "\n",
    "# Form Bigrams\n",
    "data_words_bigrams = make_bigrams(data_words_nostops)\n",
    "\n",
    "# Initialize spacy 'en' model, keeping only tagger component (for efficiency)\n",
    "# python3 -m spacy download en\n",
    "nlp = spacy.load('en_core_web_sm', disable=['parser', 'ner'])\n",
    "\n",
    "# Do lemmatization keeping only noun, adj, vb, adv\n",
    "data_lemmatized = lemmatization(data_words_bigrams, allowed_postags=['NOUN', 'ADJ', 'VERB', 'ADV'])\n",
    "#['NOUN', 'ADJ', 'VERB', 'ADV']\n",
    "\n",
    "print(data_lemmatized[:1])"
   ]
  },
  {
   "cell_type": "code",
   "execution_count": 120,
   "metadata": {},
   "outputs": [
    {
     "name": "stdout",
     "output_type": "stream",
     "text": [
      "[[(0, 1), (1, 1), (2, 1), (3, 1), (4, 1), (5, 1), (6, 1), (7, 1), (8, 1)]]\n"
     ]
    }
   ],
   "source": [
    "# Create Dictionary\n",
    "id2word = corpora.Dictionary(data_lemmatized)\n",
    "\n",
    "# Create Corpus\n",
    "texts = data_lemmatized\n",
    "\n",
    "# Term Document Frequency\n",
    "corpus = [id2word.doc2bow(text) for text in texts]\n",
    "\n",
    "# View\n",
    "print(corpus[:1])"
   ]
  },
  {
   "cell_type": "code",
   "execution_count": 121,
   "metadata": {},
   "outputs": [],
   "source": [
    "# Build LDA model\n",
    "lda_model = gensim.models.ldamodel.LdaModel(corpus=corpus,\n",
    "                                           id2word=id2word,\n",
    "                                           num_topics=5, \n",
    "                                           random_state=100,\n",
    "                                           update_every=1,\n",
    "                                           chunksize=100,\n",
    "                                           passes=10,\n",
    "                                           alpha='auto',\n",
    "                                           per_word_topics=True)"
   ]
  },
  {
   "cell_type": "code",
   "execution_count": 122,
   "metadata": {},
   "outputs": [
    {
     "name": "stdout",
     "output_type": "stream",
     "text": [
      "[(0,\n",
      "  '0.016*\"public\" + 0.013*\"family\" + 0.012*\"city\" + 0.009*\"play\" + '\n",
      "  '0.009*\"house\" + 0.009*\"service\" + 0.009*\"kid\" + 0.009*\"report\" + '\n",
      "  '0.009*\"home\" + 0.008*\"level\"'),\n",
      " (1,\n",
      "  '0.018*\"get\" + 0.016*\"trump\" + 0.015*\"go\" + 0.014*\"make\" + 0.013*\"say\" + '\n",
      "  '0.012*\"know\" + 0.011*\"think\" + 0.011*\"time\" + 0.010*\"take\" + 0.010*\"well\"'),\n",
      " (2,\n",
      "  '0.023*\"pay\" + 0.021*\"money\" + 0.015*\"canadian\" + 0.014*\"job\" + '\n",
      "  '0.012*\"business\" + 0.011*\"high\" + 0.011*\"cost\" + 0.010*\"less\" + '\n",
      "  '0.010*\"base\" + 0.010*\"oil\"'),\n",
      " (3,\n",
      "  '0.023*\"people\" + 0.014*\"country\" + 0.011*\"support\" + 0.011*\"american\" + '\n",
      "  '0.010*\"world\" + 0.010*\"great\" + 0.010*\"system\" + 0.007*\"become\" + '\n",
      "  '0.007*\"obama\" + 0.007*\"power\"'),\n",
      " (4,\n",
      "  '0.021*\"year\" + 0.015*\"even\" + 0.015*\"work\" + 0.014*\"government\" + '\n",
      "  '0.010*\"fact\" + 0.010*\"live\" + 0.010*\"canada\" + 0.009*\"first\" + 0.008*\"try\" '\n",
      "  '+ 0.008*\"still\"')]\n"
     ]
    }
   ],
   "source": [
    "# Print the Keyword in the 10 topics\n",
    "pprint(lda_model.print_topics())\n",
    "doc_lda = lda_model[corpus]"
   ]
  },
  {
   "cell_type": "code",
   "execution_count": 123,
   "metadata": {},
   "outputs": [
    {
     "name": "stdout",
     "output_type": "stream",
     "text": [
      "\n",
      "Perplexity:  -8.683105096141983\n",
      "\n",
      "Coherence Score:  0.491240715903988\n"
     ]
    }
   ],
   "source": [
    "# Compute Perplexity\n",
    "print('\\nPerplexity: ', lda_model.log_perplexity(corpus))  # a measure of how good the model is. lower the better.\n",
    "\n",
    "# Compute Coherence Score\n",
    "coherence_model_lda = CoherenceModel(model=lda_model, texts=data_lemmatized, dictionary=id2word, coherence='c_v')\n",
    "coherence_lda = coherence_model_lda.get_coherence()\n",
    "print('\\nCoherence Score: ', coherence_lda)"
   ]
  },
  {
   "cell_type": "code",
   "execution_count": 124,
   "metadata": {},
   "outputs": [],
   "source": [
    "#tuning\n",
    "# supporting function\n",
    "def compute_coherence_values(corpus, dictionary, k, a, b):\n",
    "    \n",
    "    lda_model = gensim.models.LdaMulticore(corpus=corpus,\n",
    "                                           id2word=dictionary,\n",
    "                                           num_topics=k, \n",
    "                                           random_state=100,\n",
    "                                           chunksize=100,\n",
    "                                           passes=10,\n",
    "                                           alpha=a,\n",
    "                                           eta=b)\n",
    "    \n",
    "    coherence_model_lda = CoherenceModel(model=lda_model, texts=data_lemmatized, dictionary=id2word, coherence='c_v')\n",
    "    \n",
    "    return coherence_model_lda.get_coherence()"
   ]
  },
  {
   "cell_type": "code",
   "execution_count": 125,
   "metadata": {},
   "outputs": [
    {
     "data": {
      "text/html": [
       "\n",
       "<link rel=\"stylesheet\" type=\"text/css\" href=\"https://cdn.jsdelivr.net/gh/bmabey/pyLDAvis@3.2.2/pyLDAvis/js/ldavis.v1.0.0.css\">\n",
       "\n",
       "\n",
       "<div id=\"ldavis_el89521641222374288262368561\"></div>\n",
       "<script type=\"text/javascript\">\n",
       "\n",
       "var ldavis_el89521641222374288262368561_data = {\"mdsDat\": {\"x\": [0.4036487592841952, -0.08443445239882263, -0.035274539578395755, -0.15226849847804608, -0.1316712688289308], \"y\": [0.0037732500393601854, -0.38136333754637025, 0.18958076802567111, 0.11071742917008205, 0.07729189031125691], \"topics\": [1, 2, 3, 4, 5], \"cluster\": [1, 1, 1, 1, 1], \"Freq\": [41.04731197584356, 20.623691472648844, 16.592050974422452, 12.236970690602938, 9.499974886482203]}, \"tinfo\": {\"Term\": [\"people\", \"year\", \"get\", \"pay\", \"trump\", \"go\", \"money\", \"even\", \"say\", \"work\", \"make\", \"government\", \"country\", \"know\", \"think\", \"time\", \"canadian\", \"take\", \"job\", \"public\", \"well\", \"see\", \"need\", \"want\", \"support\", \"fact\", \"american\", \"good\", \"live\", \"canada\", \"get\", \"trump\", \"go\", \"say\", \"know\", \"think\", \"take\", \"see\", \"need\", \"want\", \"good\", \"right\", \"many\", \"state\", \"use\", \"way\", \"thing\", \"come\", \"also\", \"give\", \"much\", \"tax\", \"look\", \"never\", \"law\", \"point\", \"mean\", \"really\", \"tell\", \"long\", \"time\", \"well\", \"make\", \"people\", \"year\", \"work\", \"government\", \"fact\", \"live\", \"canada\", \"first\", \"day\", \"problem\", \"vote\", \"happen\", \"liberal\", \"help\", \"last\", \"change\", \"sure\", \"big\", \"little\", \"far\", \"party\", \"post\", \"real\", \"ever\", \"free\", \"wrong\", \"least\", \"old\", \"guy\", \"election\", \"hope\", \"republican\", \"even\", \"find\", \"try\", \"still\", \"country\", \"support\", \"american\", \"world\", \"great\", \"system\", \"become\", \"obama\", \"power\", \"alaska\", \"place\", \"story\", \"school\", \"political\", \"number\", \"question\", \"america\", \"consider\", \"provide\", \"deal\", \"group\", \"control\", \"white\", \"force\", \"gun\", \"move\", \"example\", \"muslim\", \"company\", \"turn\", \"leader\", \"people\", \"pay\", \"money\", \"canadian\", \"job\", \"business\", \"high\", \"cost\", \"less\", \"base\", \"oil\", \"income\", \"low\", \"word\", \"buy\", \"increase\", \"course\", \"cut\", \"taxis\", \"guess\", \"price\", \"build\", \"economic\", \"team\", \"fund\", \"benefit\", \"gas\", \"dollar\", \"add\", \"small\", \"student\", \"public\", \"family\", \"city\", \"play\", \"service\", \"house\", \"kid\", \"report\", \"home\", \"level\", \"speak\", \"simply\", \"expect\", \"god\", \"evidence\", \"drive\", \"police\", \"area\", \"certainly\", \"value\", \"economy\", \"offer\", \"local\", \"dog\", \"parent\", \"sad\", \"http\", \"open\", \"road\", \"investigation\", \"involve\"], \"Freq\": [8070.0, 5210.0, 8608.0, 3307.0, 7771.0, 7423.0, 3013.0, 3841.0, 6335.0, 3564.0, 7029.0, 3348.0, 2848.0, 5734.0, 5536.0, 5383.0, 2105.0, 4969.0, 1990.0, 1770.0, 4725.0, 4471.0, 4462.0, 4459.0, 2202.0, 2475.0, 2129.0, 4234.0, 2358.0, 2336.0, 8608.046184140985, 7770.719477152195, 7422.768660681927, 6334.980524857113, 5734.0758283156865, 5536.077369948396, 4968.181105442723, 4470.523639958135, 4461.706673047965, 4458.245892267861, 4233.241647700468, 4031.3775778959307, 4026.505103200547, 3975.70406911377, 3752.354507523504, 3677.812852755186, 3390.892411203849, 3323.240357680702, 3245.5833655373685, 3216.311116996406, 2990.2367685475056, 2842.4749387035617, 2754.22072210179, 2591.079633995515, 2425.6310564773025, 2386.082546641685, 2385.2207514801735, 2287.734537210544, 2233.538002987144, 2224.5494477189345, 5376.264461315154, 4722.484256905216, 6900.601486934788, 3568.3698539590646, 5209.669232029633, 3564.1241390317714, 3347.66940591194, 2474.952801858335, 2357.970269034437, 2335.527496591634, 2228.6674556751623, 2062.1666882668414, 2053.747943787861, 1996.6348222710737, 1836.8755875517122, 1804.9437619178614, 1793.6765931786636, 1756.308264386773, 1690.2532021552913, 1668.9833504855876, 1596.39243523465, 1502.343754994695, 1478.2718310168714, 1429.9383614390074, 1412.667305204302, 1419.3829855759982, 1371.5017607199495, 1360.0119431690798, 1296.1510251860227, 1298.9651695013229, 1273.148954372826, 1255.6733573372192, 1238.151522236375, 1216.5139298951171, 1500.0965394694217, 3781.3817745159436, 1964.41987390279, 2078.2185856632104, 2062.24959790106, 2847.3523120008485, 2201.5830405277447, 2128.2539351561636, 2040.0755782891229, 1932.9293064444792, 1904.4860465952518, 1460.3675543972015, 1326.727864257955, 1323.855831300328, 1313.8242396321182, 1267.1291947611617, 1258.0694544801001, 1248.5326301816085, 1208.3907791225693, 1183.9041922536953, 1140.6935007721856, 1091.1851536628594, 1074.0671189064808, 1064.2752145418233, 1029.0748983996377, 1002.1708231881687, 1001.322297149102, 967.2705742933582, 969.569684961569, 965.4773174488909, 949.2689216640978, 920.0836940074671, 886.3182948610511, 893.6840066423497, 872.4991673540618, 874.5057239090298, 4501.33379111714, 3306.2305349852872, 3013.1532400092624, 2104.515345616479, 1989.5944122984592, 1673.1007528826885, 1591.5067564299095, 1535.6557053213355, 1433.9191809568165, 1407.1511344705657, 1381.3239916297891, 1353.3831267242006, 1226.743064160269, 1142.5758408459794, 1103.8574936565365, 1053.6976121777755, 1038.8604725893263, 1010.5557204292936, 977.1151237011047, 850.3566710777885, 830.5036987622034, 775.4208315549332, 765.3563925967788, 764.9118217059732, 742.3469601990505, 727.689973520601, 720.1913282581284, 720.5106165175989, 717.1481225935242, 711.027788998442, 670.0208376245023, 1769.371707330133, 1414.2251858151262, 1352.31096154142, 1070.0738957530377, 1004.1216025365432, 1008.9015631698884, 996.7576638866469, 986.0565241334358, 957.7700017498831, 930.255483193104, 880.7786203803354, 868.5311122660338, 821.5206642341678, 807.666563486342, 801.7852016337039, 755.3208114866495, 744.43606114675, 747.1028737679812, 740.1056316897857, 730.8769963816487, 690.4667194192226, 669.6905520134083, 657.8477740923358, 632.5011195025039, 569.524419453883, 559.441365395633, 556.7868809137937, 556.526153880696, 542.1907310949083, 528.1330324365288, 583.1678926286933], \"Total\": [8070.0, 5210.0, 8608.0, 3307.0, 7771.0, 7423.0, 3013.0, 3841.0, 6335.0, 3564.0, 7029.0, 3348.0, 2848.0, 5734.0, 5536.0, 5383.0, 2105.0, 4969.0, 1990.0, 1770.0, 4725.0, 4471.0, 4462.0, 4459.0, 2202.0, 2475.0, 2129.0, 4234.0, 2358.0, 2336.0, 8608.864492278542, 7771.537002077545, 7423.587749118944, 6335.796840093915, 5734.894340101363, 5536.895125280689, 4969.000977050872, 4471.34101044359, 4462.526395854153, 4459.065501089837, 4234.058619499975, 4032.1942119124524, 4027.3247747643904, 3976.5248069323125, 3753.173537086256, 3678.6315557486273, 3391.7098503701604, 3324.058845917932, 3246.4042168225674, 3217.1292715367263, 2991.054909423011, 2843.299520089178, 2755.0387376375766, 2591.897774139137, 2426.4478170599086, 2386.902093976751, 2386.040422371187, 2288.5513383829198, 2234.356613033394, 2225.3685512129755, 5383.692809742138, 4725.619291468282, 7029.147610004094, 8070.315590302055, 5210.490625383926, 3564.945116870636, 3348.4905624213543, 2475.7758200349167, 2358.7956520453504, 2336.3469183715506, 2229.490512596378, 2062.9861663537718, 2054.568619371364, 1997.4516841094178, 1837.6979343441624, 1805.7621392019926, 1794.4982413452042, 1757.1290837348567, 1691.0735619605273, 1669.804850232647, 1597.2132598119927, 1503.164307218048, 1479.0938399865831, 1430.7545305660371, 1413.485244110527, 1420.2054036965671, 1372.323529172133, 1360.8358491680324, 1296.9707038497722, 1299.7884532668968, 1273.9689818268596, 1256.4917601805735, 1238.9668756088106, 1217.336389196468, 1503.4961087684046, 3841.3579046199143, 1983.9276373137598, 2228.494933939087, 2248.992240778349, 2848.174874069776, 2202.4092567863445, 2129.0775166079634, 2040.897656997028, 1933.7532429324035, 1905.3161018857156, 1461.1954584024686, 1327.5535345445435, 1324.6824064900138, 1314.651207636037, 1267.950002015894, 1258.8967122153751, 1249.3578185313834, 1209.2147329609113, 1184.7299559044839, 1141.5180391774531, 1092.0077928923245, 1074.894173208511, 1065.104142006492, 1029.9011832066553, 1002.993437704125, 1002.1496336583225, 968.0919237202289, 970.3940795127949, 966.2989770225562, 950.0927180928169, 920.908701097279, 887.136407837663, 894.512706344381, 873.3225581084441, 875.3340598096117, 8070.315590302055, 3307.054727336125, 3013.9812944128867, 2105.3454325367675, 1990.4213141911496, 1673.9290986404985, 1592.3365878616482, 1536.4778546267735, 1434.748411038205, 1407.988573517664, 1382.1461416298473, 1354.2075293525777, 1227.5704597658464, 1143.4137933298632, 1104.686123213932, 1054.5223222678223, 1039.6938726139235, 1011.3836975096356, 977.9372904326623, 851.1901511803625, 831.3253493128535, 776.2465635462657, 766.1854852298944, 765.7410679887773, 743.1701331771395, 728.5177346049618, 721.0178558292512, 721.3391299372088, 717.9779075847176, 711.8551272956403, 670.8517857655391, 1770.2013362795751, 1415.0565781872926, 1353.1379286070317, 1070.9064746375825, 1004.9494890859922, 1009.7353277872276, 997.5844123425999, 986.8888098347675, 958.5980741174101, 931.0900374719982, 881.6112423587796, 869.3631768006254, 822.3531853197557, 808.4978025918981, 802.6191962482868, 756.150497429685, 745.261153299918, 747.9355855717537, 740.9376441216482, 731.712089427253, 691.3022886521977, 670.5254443060293, 658.6763094285473, 633.3306702059356, 570.351363215834, 560.2727159990912, 557.6147396021373, 557.3566771426673, 543.0175069410313, 528.9635301982561, 680.906437176835], \"Category\": [\"Default\", \"Default\", \"Default\", \"Default\", \"Default\", \"Default\", \"Default\", \"Default\", \"Default\", \"Default\", \"Default\", \"Default\", \"Default\", \"Default\", \"Default\", \"Default\", \"Default\", \"Default\", \"Default\", \"Default\", \"Default\", \"Default\", \"Default\", \"Default\", \"Default\", \"Default\", \"Default\", \"Default\", \"Default\", \"Default\", \"Topic1\", \"Topic1\", \"Topic1\", \"Topic1\", \"Topic1\", \"Topic1\", \"Topic1\", \"Topic1\", \"Topic1\", \"Topic1\", \"Topic1\", \"Topic1\", \"Topic1\", \"Topic1\", \"Topic1\", \"Topic1\", \"Topic1\", \"Topic1\", \"Topic1\", \"Topic1\", \"Topic1\", \"Topic1\", \"Topic1\", \"Topic1\", \"Topic1\", \"Topic1\", \"Topic1\", \"Topic1\", \"Topic1\", \"Topic1\", \"Topic1\", \"Topic1\", \"Topic1\", \"Topic1\", \"Topic2\", \"Topic2\", \"Topic2\", \"Topic2\", \"Topic2\", \"Topic2\", \"Topic2\", \"Topic2\", \"Topic2\", \"Topic2\", \"Topic2\", \"Topic2\", \"Topic2\", \"Topic2\", \"Topic2\", \"Topic2\", \"Topic2\", \"Topic2\", \"Topic2\", \"Topic2\", \"Topic2\", \"Topic2\", \"Topic2\", \"Topic2\", \"Topic2\", \"Topic2\", \"Topic2\", \"Topic2\", \"Topic2\", \"Topic2\", \"Topic2\", \"Topic2\", \"Topic2\", \"Topic2\", \"Topic2\", \"Topic3\", \"Topic3\", \"Topic3\", \"Topic3\", \"Topic3\", \"Topic3\", \"Topic3\", \"Topic3\", \"Topic3\", \"Topic3\", \"Topic3\", \"Topic3\", \"Topic3\", \"Topic3\", \"Topic3\", \"Topic3\", \"Topic3\", \"Topic3\", \"Topic3\", \"Topic3\", \"Topic3\", \"Topic3\", \"Topic3\", \"Topic3\", \"Topic3\", \"Topic3\", \"Topic3\", \"Topic3\", \"Topic3\", \"Topic3\", \"Topic3\", \"Topic3\", \"Topic4\", \"Topic4\", \"Topic4\", \"Topic4\", \"Topic4\", \"Topic4\", \"Topic4\", \"Topic4\", \"Topic4\", \"Topic4\", \"Topic4\", \"Topic4\", \"Topic4\", \"Topic4\", \"Topic4\", \"Topic4\", \"Topic4\", \"Topic4\", \"Topic4\", \"Topic4\", \"Topic4\", \"Topic4\", \"Topic4\", \"Topic4\", \"Topic4\", \"Topic4\", \"Topic4\", \"Topic4\", \"Topic4\", \"Topic4\", \"Topic5\", \"Topic5\", \"Topic5\", \"Topic5\", \"Topic5\", \"Topic5\", \"Topic5\", \"Topic5\", \"Topic5\", \"Topic5\", \"Topic5\", \"Topic5\", \"Topic5\", \"Topic5\", \"Topic5\", \"Topic5\", \"Topic5\", \"Topic5\", \"Topic5\", \"Topic5\", \"Topic5\", \"Topic5\", \"Topic5\", \"Topic5\", \"Topic5\", \"Topic5\", \"Topic5\", \"Topic5\", \"Topic5\", \"Topic5\", \"Topic5\"], \"logprob\": [30.0, 29.0, 28.0, 27.0, 26.0, 25.0, 24.0, 23.0, 22.0, 21.0, 20.0, 19.0, 18.0, 17.0, 16.0, 15.0, 14.0, 13.0, 12.0, 11.0, 10.0, 9.0, 8.0, 7.0, 6.0, 5.0, 4.0, 3.0, 2.0, 1.0, -4.0351, -4.1374, -4.1832, -4.3417, -4.4414, -4.4765, -4.5847, -4.6903, -4.6923, -4.693, -4.7448, -4.7937, -4.7949, -4.8076, -4.8654, -4.8855, -4.9667, -4.9868, -5.0105, -5.0196, -5.0924, -5.1431, -5.1747, -5.2357, -5.3017, -5.3181, -5.3185, -5.3602, -5.3842, -5.3882, -4.5058, -4.6355, -4.2562, -4.9157, -3.849, -4.2286, -4.2912, -4.5933, -4.6417, -4.6513, -4.6981, -4.7757, -4.7798, -4.808, -4.8914, -4.909, -4.9152, -4.9363, -4.9746, -4.9873, -5.0318, -5.0925, -5.1086, -5.1419, -5.154, -5.1493, -5.1836, -5.192, -5.2401, -5.2379, -5.258, -5.2718, -5.2859, -5.3035, -5.094, -4.1694, -4.8243, -4.768, -4.7757, -4.2356, -4.4928, -4.5267, -4.569, -4.6229, -4.6378, -4.9033, -4.9993, -5.0014, -5.009, -5.0452, -5.0524, -5.06, -5.0927, -5.1132, -5.1503, -5.1947, -5.2105, -5.2197, -5.2533, -5.2798, -5.2807, -5.3153, -5.3129, -5.3171, -5.334, -5.3653, -5.4027, -5.3944, -5.4184, -5.4161, -3.7776, -3.7817, -3.8745, -4.2334, -4.2896, -4.4628, -4.5128, -4.5486, -4.6171, -4.636, -4.6545, -4.6749, -4.7732, -4.8442, -4.8787, -4.9252, -4.9394, -4.967, -5.0007, -5.1396, -5.1632, -5.2319, -5.2449, -5.2455, -5.2755, -5.2954, -5.3058, -5.3053, -5.31, -5.3186, -5.378, -4.1537, -4.3778, -4.4225, -4.6566, -4.7202, -4.7155, -4.7276, -4.7384, -4.7675, -4.7966, -4.8513, -4.8653, -4.9209, -4.938, -4.9453, -5.005, -5.0195, -5.0159, -5.0253, -5.0379, -5.0947, -5.1253, -5.1431, -5.1824, -5.2873, -5.3052, -5.3099, -5.3104, -5.3365, -5.3628, -5.2636], \"loglift\": [30.0, 29.0, 28.0, 27.0, 26.0, 25.0, 24.0, 23.0, 22.0, 21.0, 20.0, 19.0, 18.0, 17.0, 16.0, 15.0, 14.0, 13.0, 12.0, 11.0, 10.0, 9.0, 8.0, 7.0, 6.0, 5.0, 4.0, 3.0, 2.0, 1.0, 0.8903, 0.8903, 0.8903, 0.8903, 0.8903, 0.8903, 0.8903, 0.8903, 0.8903, 0.8903, 0.8903, 0.8902, 0.8902, 0.8902, 0.8902, 0.8902, 0.8902, 0.8902, 0.8902, 0.8902, 0.8902, 0.8902, 0.8901, 0.8901, 0.8901, 0.8901, 0.8901, 0.8901, 0.8901, 0.8901, 0.8891, 0.8898, 0.872, 0.0744, 1.5786, 1.5785, 1.5785, 1.5784, 1.5784, 1.5784, 1.5784, 1.5783, 1.5783, 1.5783, 1.5783, 1.5783, 1.5783, 1.5783, 1.5782, 1.5782, 1.5782, 1.5782, 1.5782, 1.5782, 1.5782, 1.5782, 1.5781, 1.5781, 1.5781, 1.5781, 1.5781, 1.5781, 1.5781, 1.5781, 1.5765, 1.563, 1.5688, 1.5089, 1.492, 1.796, 1.7959, 1.7959, 1.7958, 1.7958, 1.7958, 1.7957, 1.7956, 1.7956, 1.7956, 1.7956, 1.7956, 1.7956, 1.7956, 1.7955, 1.7955, 1.7955, 1.7955, 1.7955, 1.7954, 1.7954, 1.7954, 1.7954, 1.7954, 1.7954, 1.7954, 1.7954, 1.7953, 1.7953, 1.7953, 1.7953, 1.2124, 2.1005, 2.1004, 2.1003, 2.1003, 2.1002, 2.1002, 2.1002, 2.1001, 2.1001, 2.1001, 2.1001, 2.1, 2.1, 2.1, 2.0999, 2.0999, 2.0999, 2.0999, 2.0997, 2.0997, 2.0996, 2.0996, 2.0996, 2.0996, 2.0996, 2.0996, 2.0996, 2.0996, 2.0995, 2.0995, 2.3534, 2.3533, 2.3533, 2.3531, 2.3531, 2.3531, 2.3531, 2.353, 2.353, 2.353, 2.3529, 2.3529, 2.3529, 2.3529, 2.3528, 2.3528, 2.3528, 2.3528, 2.3528, 2.3527, 2.3527, 2.3526, 2.3526, 2.3526, 2.3524, 2.3524, 2.3524, 2.3524, 2.3524, 2.3523, 2.1989]}, \"token.table\": {\"Topic\": [4, 3, 1, 3, 3, 5, 4, 3, 4, 2, 4, 4, 4, 2, 4, 5, 2, 5, 1, 3, 3, 3, 4, 3, 4, 4, 2, 3, 5, 4, 5, 4, 5, 2, 1, 2, 2, 5, 3, 5, 2, 5, 2, 1, 2, 2, 3, 2, 4, 4, 1, 1, 1, 5, 1, 2, 3, 3, 4, 3, 2, 2, 2, 4, 5, 2, 5, 5, 4, 4, 5, 3, 5, 4, 5, 1, 2, 1, 3, 2, 4, 5, 2, 2, 2, 5, 1, 1, 4, 1, 2, 1, 1, 4, 3, 1, 3, 1, 1, 3, 3, 5, 4, 2, 5, 5, 2, 4, 1, 3, 3, 5, 1, 5, 3, 2, 3, 4, 2, 3, 5, 3, 2, 1, 5, 1, 2, 1, 5, 5, 1, 3, 1, 5, 5, 4, 5, 1, 1, 2, 3, 4, 3, 2, 3, 1, 1, 4, 4, 1, 1, 1, 1, 2, 1, 1, 2, 3, 1, 5, 2, 1, 1, 1, 2, 3, 4, 2, 3, 2, 2], \"Freq\": [0.9986379698116237, 0.9995046536813305, 0.9998754878334396, 0.9990771193219645, 0.9994939044729193, 0.9987491094289377, 0.9992978824286946, 0.9991818627716134, 0.9992893315009791, 0.9992403895944769, 0.9983941139261592, 0.9994449593825371, 0.9993788975895381, 0.9998515124749571, 0.9998359259571237, 0.9987345168259608, 0.9993651595148335, 0.9991590446302816, 0.9996814599358755, 0.9994268316808196, 0.9991681290765194, 0.9988528323319086, 0.9996889934825064, 0.9995874993208907, 0.9993326183483422, 0.9996206212235966, 0.9995219714170382, 0.99912498089977, 0.9994778869530698, 0.9995298606118341, 0.9984784808928967, 0.9984527438162852, 0.998116180615087, 0.9992196114134726, 0.015359152014719074, 0.9842873519941157, 0.9997642471580093, 0.999228530477241, 0.9990132560413466, 0.9995705186943268, 0.9996866355876657, 0.9992533314896525, 0.9992604661333773, 0.009576962204995551, 0.9899554616111191, 0.9997799889285887, 0.9995938974473209, 0.9993857825184842, 0.998425484118775, 0.998588307042576, 0.999899581149254, 0.9996489816101836, 0.9999208268105926, 0.9993842870193311, 0.9997499752376834, 0.9998534974454282, 0.999610476189164, 0.9990095272144562, 0.9986017798975798, 0.9986557193441736, 0.9996086244286212, 0.9996202126959394, 0.999722350608251, 0.9997886201546745, 0.9993760950146278, 0.9997236678378686, 0.9992717618498711, 0.9988975549631706, 0.999108312923681, 0.9995046835360497, 0.9981784562767589, 0.14245716401533826, 0.8562116146488887, 0.9997883291400943, 0.9994141725398179, 0.9998440529069369, 0.9993574269839887, 0.9998154433584929, 0.9996183630628009, 0.999393398775843, 0.9994783677525293, 0.9988292888677471, 0.9995779404244629, 0.9992254291746704, 0.999662687166368, 0.9989732294620798, 0.9998343864377994, 0.9996229680463704, 0.9995352936678231, 0.9817691109770251, 0.018209889321121463, 0.9999193571955196, 0.9995639544236417, 0.9996744192093343, 0.9988498826777555, 0.9996473119167129, 0.9987190156692668, 0.9998820408424605, 0.9996536228596303, 0.9993838630475698, 0.9995830416400244, 0.9992163693257411, 0.999170752212573, 0.9992393991999161, 0.9993600558541869, 0.9993839530533374, 0.9994726345086332, 0.9996810674684617, 0.4421140611016003, 0.5577229229311387, 0.9992507575106404, 0.9991535445353533, 0.9996220649439173, 0.9983077699752178, 0.9989954365194205, 0.9996567038017915, 0.9994848527566529, 0.999608637805737, 0.9997232414794994, 0.9989633483122016, 0.999321356133365, 0.9995461839763597, 0.999151246929895, 0.9997590884793918, 0.9990993819912536, 0.001995349361068492, 0.997674680534246, 0.9997038307557399, 0.9981261986436437, 0.9977283991121686, 0.9998742320636178, 0.9997135980372669, 0.9999237341900801, 0.9990551872543805, 0.9995822496163663, 0.998798734092302, 0.9993066758573267, 0.9998680237247867, 0.08270370907799471, 0.9168550974130382, 0.999287699930682, 0.9987302921694289, 0.9998141776851494, 0.9995179974279421, 0.9993092474868537, 0.9997985556743709, 0.9995429535017342, 0.9990415638693483, 0.999032221177945, 0.9998403956506703, 0.9997907101723094, 0.9998383344346542, 0.998571090510919, 0.001300222774102759, 0.9999309014320589, 0.06731000269085649, 0.9324679039439986, 0.9984856018018031, 0.9996873213895761, 0.9990268174633955, 0.9997738698197253, 0.9997610483430717, 0.9998283177483104, 0.9992341127701894, 0.0006348374286977061, 0.9988720867373495, 0.9996381071032402, 0.9997348859969363, 0.9995601655997054, 0.9992515606968678, 0.9999058389278092], \"Term\": [\"add\", \"alaska\", \"also\", \"america\", \"american\", \"area\", \"base\", \"become\", \"benefit\", \"big\", \"build\", \"business\", \"buy\", \"canada\", \"canadian\", \"certainly\", \"change\", \"city\", \"come\", \"company\", \"consider\", \"control\", \"cost\", \"country\", \"course\", \"cut\", \"day\", \"deal\", \"dog\", \"dollar\", \"drive\", \"economic\", \"economy\", \"election\", \"even\", \"even\", \"ever\", \"evidence\", \"example\", \"expect\", \"fact\", \"family\", \"far\", \"find\", \"find\", \"first\", \"force\", \"free\", \"fund\", \"gas\", \"get\", \"give\", \"go\", \"god\", \"good\", \"government\", \"great\", \"group\", \"guess\", \"gun\", \"guy\", \"happen\", \"help\", \"high\", \"home\", \"hope\", \"house\", \"http\", \"income\", \"increase\", \"investigation\", \"involve\", \"involve\", \"job\", \"kid\", \"know\", \"last\", \"law\", \"leader\", \"least\", \"less\", \"level\", \"liberal\", \"little\", \"live\", \"local\", \"long\", \"look\", \"low\", \"make\", \"make\", \"many\", \"mean\", \"money\", \"move\", \"much\", \"muslim\", \"need\", \"never\", \"number\", \"obama\", \"offer\", \"oil\", \"old\", \"open\", \"parent\", \"party\", \"pay\", \"people\", \"people\", \"place\", \"play\", \"point\", \"police\", \"political\", \"post\", \"power\", \"price\", \"problem\", \"provide\", \"public\", \"question\", \"real\", \"really\", \"report\", \"republican\", \"republican\", \"right\", \"road\", \"sad\", \"say\", \"school\", \"see\", \"service\", \"simply\", \"small\", \"speak\", \"state\", \"still\", \"still\", \"story\", \"student\", \"support\", \"sure\", \"system\", \"take\", \"tax\", \"taxis\", \"team\", \"tell\", \"thing\", \"think\", \"time\", \"time\", \"trump\", \"try\", \"try\", \"turn\", \"use\", \"value\", \"vote\", \"want\", \"way\", \"well\", \"well\", \"white\", \"word\", \"work\", \"world\", \"wrong\", \"year\"]}, \"R\": 30, \"lambda.step\": 0.01, \"plot.opts\": {\"xlab\": \"PC1\", \"ylab\": \"PC2\"}, \"topic.order\": [2, 5, 4, 3, 1]};\n",
       "\n",
       "function LDAvis_load_lib(url, callback){\n",
       "  var s = document.createElement('script');\n",
       "  s.src = url;\n",
       "  s.async = true;\n",
       "  s.onreadystatechange = s.onload = callback;\n",
       "  s.onerror = function(){console.warn(\"failed to load library \" + url);};\n",
       "  document.getElementsByTagName(\"head\")[0].appendChild(s);\n",
       "}\n",
       "\n",
       "if(typeof(LDAvis) !== \"undefined\"){\n",
       "   // already loaded: just create the visualization\n",
       "   !function(LDAvis){\n",
       "       new LDAvis(\"#\" + \"ldavis_el89521641222374288262368561\", ldavis_el89521641222374288262368561_data);\n",
       "   }(LDAvis);\n",
       "}else if(typeof define === \"function\" && define.amd){\n",
       "   // require.js is available: use it to load d3/LDAvis\n",
       "   require.config({paths: {d3: \"https://d3js.org/d3.v5\"}});\n",
       "   require([\"d3\"], function(d3){\n",
       "      window.d3 = d3;\n",
       "      LDAvis_load_lib(\"https://cdn.jsdelivr.net/gh/bmabey/pyLDAvis@3.2.2/pyLDAvis/js/ldavis.v3.0.0.js\", function(){\n",
       "        new LDAvis(\"#\" + \"ldavis_el89521641222374288262368561\", ldavis_el89521641222374288262368561_data);\n",
       "      });\n",
       "    });\n",
       "}else{\n",
       "    // require.js not available: dynamically load d3 & LDAvis\n",
       "    LDAvis_load_lib(\"https://d3js.org/d3.v5.js\", function(){\n",
       "         LDAvis_load_lib(\"https://cdn.jsdelivr.net/gh/bmabey/pyLDAvis@3.2.2/pyLDAvis/js/ldavis.v3.0.0.js\", function(){\n",
       "                 new LDAvis(\"#\" + \"ldavis_el89521641222374288262368561\", ldavis_el89521641222374288262368561_data);\n",
       "            })\n",
       "         });\n",
       "}\n",
       "</script>"
      ],
      "text/plain": [
       "PreparedData(topic_coordinates=              x         y  topics  cluster       Freq\n",
       "topic                                                \n",
       "1      0.403649  0.003773       1        1  41.047312\n",
       "4     -0.084434 -0.381363       2        1  20.623691\n",
       "3     -0.035275  0.189581       3        1  16.592051\n",
       "2     -0.152268  0.110717       4        1  12.236971\n",
       "0     -0.131671  0.077292       5        1   9.499975, topic_info=               Term         Freq        Total Category  logprob  loglift\n",
       "10           people  8070.000000  8070.000000  Default  30.0000  30.0000\n",
       "337            year  5210.000000  5210.000000  Default  29.0000  29.0000\n",
       "24              get  8608.000000  8608.000000  Default  28.0000  28.0000\n",
       "895             pay  3307.000000  3307.000000  Default  27.0000  27.0000\n",
       "109           trump  7771.000000  7771.000000  Default  26.0000  26.0000\n",
       "...             ...          ...          ...      ...      ...      ...\n",
       "2411           http   556.786881   557.614740   Topic5  -5.3099   2.3524\n",
       "1195           open   556.526154   557.356677   Topic5  -5.3104   2.3524\n",
       "823            road   542.190731   543.017507   Topic5  -5.3365   2.3524\n",
       "146   investigation   528.133032   528.963530   Topic5  -5.3628   2.3523\n",
       "949         involve   583.167893   680.906437   Topic5  -5.2636   2.1989\n",
       "\n",
       "[192 rows x 6 columns], token_table=      Topic      Freq      Term\n",
       "term                           \n",
       "864       4  0.998638       add\n",
       "1417      3  0.999505    alaska\n",
       "420       1  0.999875      also\n",
       "937       3  0.999077   america\n",
       "52        3  0.999494  american\n",
       "...     ...       ...       ...\n",
       "1408      4  0.999638      word\n",
       "112       2  0.999735      work\n",
       "660       3  0.999560     world\n",
       "458       2  0.999252     wrong\n",
       "337       2  0.999906      year\n",
       "\n",
       "[171 rows x 3 columns], R=30, lambda_step=0.01, plot_opts={'xlab': 'PC1', 'ylab': 'PC2'}, topic_order=[2, 5, 4, 3, 1])"
      ]
     },
     "execution_count": 125,
     "metadata": {},
     "output_type": "execute_result"
    }
   ],
   "source": [
    "# Visualize the topics\n",
    "pyLDAvis.enable_notebook()\n",
    "vis = pyLDAvis.gensim.prepare(lda_model, corpus, id2word)\n",
    "vis"
   ]
  },
  {
   "cell_type": "code",
   "execution_count": null,
   "metadata": {},
   "outputs": [],
   "source": [
    "###Topics:\n",
    "#1. Trump\n",
    "#2. Canada Government\n",
    "#3.USA\n",
    "#4.Jobs \n",
    "#5.Family\n"
   ]
  },
  {
   "cell_type": "code",
   "execution_count": null,
   "metadata": {},
   "outputs": [],
   "source": []
  },
  {
   "cell_type": "code",
   "execution_count": null,
   "metadata": {},
   "outputs": [],
   "source": [
    "#####ignore the code below"
   ]
  },
  {
   "cell_type": "code",
   "execution_count": 92,
   "metadata": {},
   "outputs": [],
   "source": [
    "count_vect = CountVectorizer(max_df=0.8, min_df=2, stop_words='english')\n",
    "doc_term_matrix = count_vect.fit_transform(df['comment_text'].values.astype('U'))"
   ]
  },
  {
   "cell_type": "code",
   "execution_count": 93,
   "metadata": {},
   "outputs": [
    {
     "data": {
      "text/plain": [
       "<50000x31553 sparse matrix of type '<class 'numpy.int64'>'\n",
       "\twith 1068985 stored elements in Compressed Sparse Row format>"
      ]
     },
     "execution_count": 93,
     "metadata": {},
     "output_type": "execute_result"
    }
   ],
   "source": [
    "doc_term_matrix"
   ]
  },
  {
   "cell_type": "code",
   "execution_count": 94,
   "metadata": {},
   "outputs": [
    {
     "data": {
      "text/plain": [
       "LatentDirichletAllocation(n_components=5, random_state=42)"
      ]
     },
     "execution_count": 94,
     "metadata": {},
     "output_type": "execute_result"
    }
   ],
   "source": [
    "from sklearn.decomposition import LatentDirichletAllocation\n",
    "LDA = LatentDirichletAllocation(n_components=5, random_state=42)\n",
    "LDA.fit(doc_term_matrix)"
   ]
  },
  {
   "cell_type": "code",
   "execution_count": 96,
   "metadata": {},
   "outputs": [
    {
     "name": "stdout",
     "output_type": "stream",
     "text": [
      "reparations\n",
      "disordered\n",
      "admonition\n",
      "deceive\n",
      "lane\n",
      "emerging\n",
      "alones\n",
      "mathematics\n",
      "pricing\n",
      "client\n"
     ]
    }
   ],
   "source": [
    "import random\n",
    "\n",
    "for i in range(10):\n",
    "    random_id = random.randint(0,len(count_vect.get_feature_names()))\n",
    "    print(count_vect.get_feature_names()[random_id])"
   ]
  },
  {
   "cell_type": "code",
   "execution_count": 97,
   "metadata": {},
   "outputs": [],
   "source": [
    "first_topic = LDA.components_[0]"
   ]
  },
  {
   "cell_type": "code",
   "execution_count": 98,
   "metadata": {},
   "outputs": [
    {
     "data": {
      "text/plain": [
       "array([41.44729296, 58.43563322,  2.19997328, ...,  0.20000066,\n",
       "        0.20000066,  3.19877193])"
      ]
     },
     "execution_count": 98,
     "metadata": {},
     "output_type": "execute_result"
    }
   ],
   "source": [
    "first_topic"
   ]
  },
  {
   "cell_type": "code",
   "execution_count": 99,
   "metadata": {},
   "outputs": [],
   "source": [
    "top_topic_words = first_topic.argsort()[-10:]"
   ]
  },
  {
   "cell_type": "code",
   "execution_count": 100,
   "metadata": {},
   "outputs": [
    {
     "data": {
      "text/plain": [
       "array([16763, 22428, 15949, 28450, 24894,  8917,  5466, 15623, 16630,\n",
       "       20795], dtype=int64)"
      ]
     },
     "execution_count": 100,
     "metadata": {},
     "output_type": "execute_result"
    }
   ],
   "source": [
    "top_topic_words"
   ]
  },
  {
   "cell_type": "code",
   "execution_count": 101,
   "metadata": {},
   "outputs": [
    {
     "name": "stdout",
     "output_type": "stream",
     "text": [
      "live\n",
      "public\n",
      "know\n",
      "time\n",
      "school\n",
      "don\n",
      "city\n",
      "just\n",
      "like\n",
      "people\n"
     ]
    }
   ],
   "source": [
    "for i in top_topic_words:\n",
    "    print(count_vect.get_feature_names()[i])"
   ]
  },
  {
   "cell_type": "code",
   "execution_count": 102,
   "metadata": {},
   "outputs": [
    {
     "name": "stdout",
     "output_type": "stream",
     "text": [
      "Top 10 words for topic #0:\n",
      "['live', 'public', 'know', 'time', 'school', 'don', 'city', 'just', 'like', 'people']\n",
      "\n",
      "\n",
      "Top 10 words for topic #1:\n",
      "['com', 'oil', 'party', 'people', 'state', 'don', 'tax', 'like', 'just', 'trump']\n",
      "\n",
      "\n",
      "Top 10 words for topic #2:\n",
      "['country', 'white', 'news', 'don', 'right', 'did', 'just', 'like', 'people', 'trump']\n",
      "\n",
      "\n",
      "Top 10 words for topic #3:\n",
      "['women', 'god', 'church', 'know', 'good', 'think', 'just', 'like', 'don', 'people']\n",
      "\n",
      "\n",
      "Top 10 words for topic #4:\n",
      "['like', 'year', 'just', 'pay', 'money', 'years', 'tax', 'canada', 'people', 'government']\n",
      "\n",
      "\n"
     ]
    }
   ],
   "source": [
    "for i,topic in enumerate(LDA.components_):\n",
    "    print(f'Top 10 words for topic #{i}:')\n",
    "    print([count_vect.get_feature_names()[i] for i in topic.argsort()[-10:]])\n",
    "    print('\\n')"
   ]
  },
  {
   "cell_type": "code",
   "execution_count": 26,
   "metadata": {},
   "outputs": [
    {
     "data": {
      "text/plain": [
       "(1804874, 5)"
      ]
     },
     "execution_count": 26,
     "metadata": {},
     "output_type": "execute_result"
    }
   ],
   "source": [
    "topic_values = LDA.transform(doc_term_matrix)\n",
    "topic_values.shape"
   ]
  },
  {
   "cell_type": "code",
   "execution_count": 27,
   "metadata": {},
   "outputs": [],
   "source": [
    "train_data['Topic'] = topic_values.argmax(axis=1)"
   ]
  },
  {
   "cell_type": "code",
   "execution_count": 28,
   "metadata": {},
   "outputs": [
    {
     "data": {
      "text/html": [
       "<div>\n",
       "<style scoped>\n",
       "    .dataframe tbody tr th:only-of-type {\n",
       "        vertical-align: middle;\n",
       "    }\n",
       "\n",
       "    .dataframe tbody tr th {\n",
       "        vertical-align: top;\n",
       "    }\n",
       "\n",
       "    .dataframe thead th {\n",
       "        text-align: right;\n",
       "    }\n",
       "</style>\n",
       "<table border=\"1\" class=\"dataframe\">\n",
       "  <thead>\n",
       "    <tr style=\"text-align: right;\">\n",
       "      <th></th>\n",
       "      <th>comment_text</th>\n",
       "      <th>id</th>\n",
       "      <th>Topic</th>\n",
       "    </tr>\n",
       "  </thead>\n",
       "  <tbody>\n",
       "    <tr>\n",
       "      <th>0</th>\n",
       "      <td>This is so cool. It's like, 'would you want yo...</td>\n",
       "      <td>59848</td>\n",
       "      <td>1</td>\n",
       "    </tr>\n",
       "    <tr>\n",
       "      <th>1</th>\n",
       "      <td>Thank you!! This would make my life a lot less...</td>\n",
       "      <td>59849</td>\n",
       "      <td>1</td>\n",
       "    </tr>\n",
       "    <tr>\n",
       "      <th>2</th>\n",
       "      <td>This is such an urgent design problem; kudos t...</td>\n",
       "      <td>59852</td>\n",
       "      <td>1</td>\n",
       "    </tr>\n",
       "    <tr>\n",
       "      <th>3</th>\n",
       "      <td>Is this something I'll be able to install on m...</td>\n",
       "      <td>59855</td>\n",
       "      <td>1</td>\n",
       "    </tr>\n",
       "    <tr>\n",
       "      <th>4</th>\n",
       "      <td>haha you guys are a bunch of losers.</td>\n",
       "      <td>59856</td>\n",
       "      <td>1</td>\n",
       "    </tr>\n",
       "  </tbody>\n",
       "</table>\n",
       "</div>"
      ],
      "text/plain": [
       "                                        comment_text     id  Topic\n",
       "0  This is so cool. It's like, 'would you want yo...  59848      1\n",
       "1  Thank you!! This would make my life a lot less...  59849      1\n",
       "2  This is such an urgent design problem; kudos t...  59852      1\n",
       "3  Is this something I'll be able to install on m...  59855      1\n",
       "4               haha you guys are a bunch of losers.  59856      1"
      ]
     },
     "execution_count": 28,
     "metadata": {},
     "output_type": "execute_result"
    }
   ],
   "source": [
    "train_data.head()"
   ]
  },
  {
   "cell_type": "code",
   "execution_count": 29,
   "metadata": {},
   "outputs": [
    {
     "ename": "NameError",
     "evalue": "name 'unique' is not defined",
     "output_type": "error",
     "traceback": [
      "\u001b[1;31m---------------------------------------------------------------------------\u001b[0m",
      "\u001b[1;31mNameError\u001b[0m                                 Traceback (most recent call last)",
      "\u001b[1;32m<ipython-input-29-14fa15bd60d4>\u001b[0m in \u001b[0;36m<module>\u001b[1;34m()\u001b[0m\n\u001b[1;32m----> 1\u001b[1;33m \u001b[0munique\u001b[0m\u001b[1;33m(\u001b[0m\u001b[0mtrain_data\u001b[0m\u001b[1;33m.\u001b[0m\u001b[0mTopic\u001b[0m\u001b[1;33m)\u001b[0m\u001b[1;33m\u001b[0m\u001b[0m\n\u001b[0m",
      "\u001b[1;31mNameError\u001b[0m: name 'unique' is not defined"
     ]
    }
   ],
   "source": [
    "unique(train_data.Topic)"
   ]
  },
  {
   "cell_type": "code",
   "execution_count": null,
   "metadata": {},
   "outputs": [],
   "source": [
    "#https://stackabuse.com/python-for-nlp-topic-modeling/#:~:text=Topic%20modeling%20is%20an%20unsupervised,clusters%20based%20on%20similar%20characteristics."
   ]
  }
 ],
 "metadata": {
  "kernelspec": {
   "display_name": "Python 3",
   "language": "python",
   "name": "python3"
  },
  "language_info": {
   "codemirror_mode": {
    "name": "ipython",
    "version": 3
   },
   "file_extension": ".py",
   "mimetype": "text/x-python",
   "name": "python",
   "nbconvert_exporter": "python",
   "pygments_lexer": "ipython3",
   "version": "3.8.3"
  }
 },
 "nbformat": 4,
 "nbformat_minor": 2
}
